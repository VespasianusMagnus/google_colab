{
 "cells": [
  {
   "cell_type": "markdown",
   "id": "77853f73",
   "metadata": {},
   "source": [
    "##### To find the current working directory in Python, use os. getcwd() , and to change the current working directory, use os. chdir(path)."
   ]
  },
  {
   "cell_type": "code",
   "execution_count": 4,
   "id": "52fcba2d",
   "metadata": {},
   "outputs": [],
   "source": [
    "import os\n",
    "import re\n",
    "\n",
    "for filename in os.listdir('.'):\n",
    "    match = re.match(r'yt1s.com - (.*)', filename)\n",
    "    if match:\n",
    "        new_filename = '' + match.group(1)\n",
    "        os.rename(filename, new_filename)"
   ]
  }
 ],
 "metadata": {
  "kernelspec": {
   "display_name": "Python 3 (ipykernel)",
   "language": "python",
   "name": "python3"
  },
  "language_info": {
   "codemirror_mode": {
    "name": "ipython",
    "version": 3
   },
   "file_extension": ".py",
   "mimetype": "text/x-python",
   "name": "python",
   "nbconvert_exporter": "python",
   "pygments_lexer": "ipython3",
   "version": "3.9.7"
  }
 },
 "nbformat": 4,
 "nbformat_minor": 5
}
